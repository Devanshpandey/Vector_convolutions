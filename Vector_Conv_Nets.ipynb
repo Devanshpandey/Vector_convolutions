{
 "cells": [
  {
   "cell_type": "code",
   "execution_count": 1,
   "metadata": {},
   "outputs": [],
   "source": [
    "%matplotlib inline\n",
    "import torch\n",
    "import torch.nn as nn\n",
    "import torch.nn.functional as F\n",
    "import numpy as np\n",
    "from torchvision import transforms,datasets\n",
    "import torch.optim as optim\n",
    "from torch.autograd import Variable\n",
    "import torchvision\n",
    "import sys\n",
    "sys.path.insert(0, '/home/siplab/ai61002s19-master/RotEqNet-master') # change path accordingly\n",
    "from layers_2D import RotConv, VectorMaxPool, VectorBatchNorm, Vector2Magnitude, VectorUpsampling\n",
    "import matplotlib.pyplot as plt\n",
    "import time"
   ]
  },
  {
   "cell_type": "markdown",
   "metadata": {},
   "source": [
    "## Load data:"
   ]
  },
  {
   "cell_type": "code",
   "execution_count": 2,
   "metadata": {},
   "outputs": [],
   "source": [
    "apply_transform = transforms.Compose([transforms.Resize(32),transforms.ToTensor()])\n",
    "apply_transform_rot = transforms.Compose([transforms.Resize(32),transforms.RandomRotation(90),transforms.ToTensor()])\n",
    "BatchSize = 256 # change according to system specs\n",
    "\n",
    "trainset = datasets.MNIST(root='./MNIST', train=True, download=True, transform=apply_transform)\n",
    "trainsetRot = datasets.MNIST(root='./MNIST', train=True, download=True, transform=apply_transform_rot)\n",
    "trainLoader = torch.utils.data.DataLoader(trainset, batch_size=BatchSize,\n",
    "                                          shuffle=True, num_workers=4) # Creating dataloader\n",
    "trainLoaderRot = torch.utils.data.DataLoader(trainsetRot, batch_size=BatchSize,\n",
    "                                          shuffle=True, num_workers=4) # Creating dataloader\n",
    "\n",
    "# Validation set with random rotations in the range [-90,90]\n",
    "testsetRot = datasets.MNIST(root='./MNIST', train=False, download=True, transform=apply_transform_rot)\n",
    "testLoaderRot = torch.utils.data.DataLoader(testsetRot, batch_size=BatchSize,\n",
    "                                         shuffle=False, num_workers=4) # Creating dataloader"
   ]
  },
  {
   "cell_type": "code",
   "execution_count": 3,
   "metadata": {},
   "outputs": [
    {
     "name": "stdout",
     "output_type": "stream",
     "text": [
      "No. of samples in train set: 60000\n",
      "No. of samples in test set: 10000\n"
     ]
    }
   ],
   "source": [
    "# Size of train and test datasets\n",
    "print('No. of samples in train set: '+str(len(trainLoader.dataset)))\n",
    "print('No. of samples in test set: '+str(len(testLoaderRot.dataset)))"
   ]
  },
  {
   "cell_type": "markdown",
   "metadata": {},
   "source": [
    "## Define network architecture"
   ]
  },
  {
   "cell_type": "markdown",
   "metadata": {},
   "source": [
    "### LeNet-5"
   ]
  },
  {
   "cell_type": "code",
   "execution_count": 4,
   "metadata": {},
   "outputs": [],
   "source": [
    "class LeNet(nn.Module):\n",
    "    def __init__(self):\n",
    "        super(LeNet, self).__init__()\n",
    "        self.conv1 = nn.Conv2d(1, 6, kernel_size=5)\n",
    "        self.pool1 = nn.MaxPool2d(kernel_size=2,stride=2)\n",
    "        self.conv2 = nn.Conv2d(6, 16, kernel_size=5)\n",
    "        self.pool2 = nn.MaxPool2d(kernel_size=2,stride=2)        \n",
    "        self.fc1 = nn.Linear(400, 120)\n",
    "        self.fc2 = nn.Linear(120, 84)\n",
    "        self.fc3 = nn.Linear(84, 10)\n",
    "\n",
    "    def forward(self, x):\n",
    "        x = F.relu(self.conv1(x))\n",
    "        x = self.pool1(x)\n",
    "        x = F.relu(self.conv2(x))\n",
    "        x = self.pool2(x)\n",
    "        x = x.view(-1, 400)\n",
    "        x = F.relu(self.fc1(x)) \n",
    "        x = F.relu(self.fc2(x))\n",
    "        x = self.fc3(x)\n",
    "        return F.log_softmax(x,dim=1)\n"
   ]
  },
  {
   "cell_type": "markdown",
   "metadata": {},
   "source": [
    "### MNISTNet"
   ]
  },
  {
   "cell_type": "code",
   "execution_count": 5,
   "metadata": {},
   "outputs": [],
   "source": [
    "class MnistNet(nn.Module):\n",
    "    def __init__(self):\n",
    "        super(MnistNet, self).__init__()\n",
    "\n",
    "        self.main = nn.Sequential(           \n",
    "            RotConv(1, 6, [9, 9], 1, 9 // 2, n_angles=17, mode=1), #The first RotConv must have mode=1 \n",
    "            VectorMaxPool(2),\n",
    "            VectorBatchNorm(6),\n",
    "            \n",
    "            RotConv(6, 16, [9, 9], 1, 9 // 2, n_angles=17, mode=2), #The next RotConv has mode=2 (since the input is vector field)\n",
    "            VectorMaxPool(2),\n",
    "            VectorBatchNorm(16),\n",
    "            \n",
    "            RotConv(16, 32, [9, 9], 2, 1, n_angles=17, mode=2), # changed stride 1->2\n",
    "            Vector2Magnitude(), #This call converts the vector field to a conventional multichannel image/feature image\n",
    "            \n",
    "        )\n",
    "        self.linear = nn.Sequential(\n",
    "            nn.Linear(32,128),\n",
    "            nn.Dropout2d(0.7),\n",
    "            nn.Linear(128,10)               \n",
    "        )\n",
    "\n",
    "    def forward(self,x):\n",
    "        x = self.main(x)\n",
    "        x = x.view(-1,32)\n",
    "        x = self.linear(x)\n",
    "        return  F.log_softmax(x,dim=1)"
   ]
  },
  {
   "cell_type": "markdown",
   "metadata": {},
   "source": [
    "## Train the networks on vanilla MNIST and validate on MNIST with random rotations"
   ]
  },
  {
   "cell_type": "markdown",
   "metadata": {},
   "source": [
    "### Initialize networks"
   ]
  },
  {
   "cell_type": "code",
   "execution_count": 6,
   "metadata": {},
   "outputs": [
    {
     "name": "stdout",
     "output_type": "stream",
     "text": [
      "LeNet(\n",
      "  (conv1): Conv2d(1, 6, kernel_size=(5, 5), stride=(1, 1))\n",
      "  (pool1): MaxPool2d(kernel_size=2, stride=2, padding=0, dilation=1, ceil_mode=False)\n",
      "  (conv2): Conv2d(6, 16, kernel_size=(5, 5), stride=(1, 1))\n",
      "  (pool2): MaxPool2d(kernel_size=2, stride=2, padding=0, dilation=1, ceil_mode=False)\n",
      "  (fc1): Linear(in_features=400, out_features=120, bias=True)\n",
      "  (fc2): Linear(in_features=120, out_features=84, bias=True)\n",
      "  (fc3): Linear(in_features=84, out_features=10, bias=True)\n",
      ")\n",
      "MnistNet(\n",
      "  (main): Sequential(\n",
      "    (0): RotConv()\n",
      "    (1): VectorMaxPool()\n",
      "    (2): VectorBatchNorm()\n",
      "    (3): RotConv()\n",
      "    (4): VectorMaxPool()\n",
      "    (5): VectorBatchNorm()\n",
      "    (6): RotConv()\n",
      "    (7): Vector2Magnitude()\n",
      "  )\n",
      "  (linear): Sequential(\n",
      "    (0): Linear(in_features=32, out_features=128, bias=True)\n",
      "    (1): Dropout2d(p=0.7)\n",
      "    (2): Linear(in_features=128, out_features=10, bias=True)\n",
      "  )\n",
      ")\n"
     ]
    }
   ],
   "source": [
    "net1 = LeNet() \n",
    "net2 = MnistNet()\n",
    "print(net1)\n",
    "print(net2)"
   ]
  },
  {
   "cell_type": "code",
   "execution_count": 7,
   "metadata": {},
   "outputs": [
    {
     "name": "stdout",
     "output_type": "stream",
     "text": [
      "GPU is available!\n"
     ]
    }
   ],
   "source": [
    "# Check availability of GPU\n",
    "use_gpu = torch.cuda.is_available()\n",
    "if use_gpu:\n",
    "    print('GPU is available!')   \n",
    "    net1 = net1.cuda()\n",
    "    net2 = net2.cuda()"
   ]
  },
  {
   "cell_type": "markdown",
   "metadata": {},
   "source": [
    "### Define loss function and optimizer"
   ]
  },
  {
   "cell_type": "code",
   "execution_count": 8,
   "metadata": {},
   "outputs": [],
   "source": [
    "criterion = nn.NLLLoss() # Negative Log-likelihood\n",
    "optimizer1 = optim.SGD(net1.parameters(), lr=1e-2, momentum=0.9) # SGD\n",
    "optimizer2 = optim.SGD(net2.parameters(), lr=1e-2, momentum=0.9) # SGD"
   ]
  },
  {
   "cell_type": "markdown",
   "metadata": {},
   "source": [
    "### Training and validation routine"
   ]
  },
  {
   "cell_type": "code",
   "execution_count": 9,
   "metadata": {},
   "outputs": [
    {
     "name": "stdout",
     "output_type": "stream",
     "text": [
      "Iteration: 1 /10  ; LeNet:  Training Loss: 0.004600 ; Testing Acc: 43.400 ; Time consumed: 0m 55s \n",
      "Iteration: 1 /10  ; MNISTNet:  Training Loss: 0.003177 ; Testing Acc: 67.200 ; Time consumed: 0m 55s \n",
      "Iteration: 2 /10  ; LeNet:  Training Loss: 0.000773 ; Testing Acc: 50.330 ; Time consumed: 0m 55s \n",
      "Iteration: 2 /10  ; MNISTNet:  Training Loss: 0.000684 ; Testing Acc: 70.260 ; Time consumed: 0m 55s \n",
      "Iteration: 3 /10  ; LeNet:  Training Loss: 0.000452 ; Testing Acc: 51.190 ; Time consumed: 0m 55s \n",
      "Iteration: 3 /10  ; MNISTNet:  Training Loss: 0.000510 ; Testing Acc: 73.330 ; Time consumed: 0m 55s \n",
      "Iteration: 4 /10  ; LeNet:  Training Loss: 0.000338 ; Testing Acc: 52.670 ; Time consumed: 0m 56s \n",
      "Iteration: 4 /10  ; MNISTNet:  Training Loss: 0.000417 ; Testing Acc: 74.550 ; Time consumed: 0m 56s \n",
      "Iteration: 5 /10  ; LeNet:  Training Loss: 0.000277 ; Testing Acc: 53.150 ; Time consumed: 0m 54s \n",
      "Iteration: 5 /10  ; MNISTNet:  Training Loss: 0.000356 ; Testing Acc: 75.080 ; Time consumed: 0m 54s \n",
      "Iteration: 6 /10  ; LeNet:  Training Loss: 0.000235 ; Testing Acc: 54.020 ; Time consumed: 0m 54s \n",
      "Iteration: 6 /10  ; MNISTNet:  Training Loss: 0.000317 ; Testing Acc: 76.130 ; Time consumed: 0m 54s \n",
      "Iteration: 7 /10  ; LeNet:  Training Loss: 0.000209 ; Testing Acc: 53.360 ; Time consumed: 0m 54s \n",
      "Iteration: 7 /10  ; MNISTNet:  Training Loss: 0.000293 ; Testing Acc: 74.920 ; Time consumed: 0m 54s \n",
      "Iteration: 8 /10  ; LeNet:  Training Loss: 0.000183 ; Testing Acc: 53.870 ; Time consumed: 0m 55s \n",
      "Iteration: 8 /10  ; MNISTNet:  Training Loss: 0.000268 ; Testing Acc: 75.500 ; Time consumed: 0m 55s \n",
      "Iteration: 9 /10  ; LeNet:  Training Loss: 0.000166 ; Testing Acc: 53.960 ; Time consumed: 0m 54s \n",
      "Iteration: 9 /10  ; MNISTNet:  Training Loss: 0.000242 ; Testing Acc: 73.830 ; Time consumed: 0m 54s \n",
      "Iteration: 10 /10  ; LeNet:  Training Loss: 0.000148 ; Testing Acc: 52.910 ; Time consumed: 0m 55s \n",
      "Iteration: 10 /10  ; MNISTNet:  Training Loss: 0.000235 ; Testing Acc: 75.200 ; Time consumed: 0m 55s \n"
     ]
    },
    {
     "data": {
      "image/png": "[encoded data removed]",
      "text/plain": [
       "<Figure size 432x288 with 1 Axes>"
      ]
     },
     "metadata": {},
     "output_type": "display_data"
    },
    {
     "data": {
      "image/png": "[encoded data removed]",
      "text/plain": [
       "<Figure size 432x288 with 1 Axes>"
      ]
     },
     "metadata": {},
     "output_type": "display_data"
    }
   ],
   "source": [
    "iterations = 10\n",
    "trainLoss1 = [] # list for saving training loss of LeNet\n",
    "testAcc1 = [] # list for saving test accuracy of LeNet\n",
    "trainLoss2 = [] # list for saving training loss of MNISTNet\n",
    "testAcc2 = [] # list for saving test accuracy of MNISTNet\n",
    "for epoch in range(iterations):\n",
    "    epochStart = time.time()\n",
    "    runningLoss1 = 0 # accumulated loss for LeNet   \n",
    "    runningLoss2 = 0 # accumulated loss for MNISTNet      \n",
    "    net1.train(True) # For training\n",
    "    net2.train(True) \n",
    "    for data in trainLoader:\n",
    "        inputs,labels = data\n",
    "        # Wrap them in Variable\n",
    "        if use_gpu:\n",
    "            inputs, labels = Variable(inputs.cuda()), Variable(labels.cuda())\n",
    "        else:\n",
    "            inputs, labels = Variable(inputs), Variable(labels)  \n",
    "       \n",
    "        # Initialize gradients to zero\n",
    "        optimizer1.zero_grad()\n",
    "        optimizer2.zero_grad()\n",
    "        # Feed-forward input data through the network        \n",
    "        outputs1 = net1(inputs)        \n",
    "        outputs2 = net2(inputs)        \n",
    "        # Compute loss/error\n",
    "        loss1 = criterion(outputs1, labels)\n",
    "        loss2 = criterion(outputs2, labels)\n",
    "        # Backpropagate loss and compute gradients\n",
    "        loss1.backward()\n",
    "        loss2.backward()\n",
    "        # Update the network parameters\n",
    "        optimizer1.step()\n",
    "        optimizer2.step()\n",
    "        # Accumulate loss per batch\n",
    "        runningLoss1 += loss1.data.item()\n",
    "        runningLoss2 += loss2.data.item()\n",
    "    avgTrainLoss1 = runningLoss1/60000.0\n",
    "    avgTrainLoss2 = runningLoss2/60000.0\n",
    "    trainLoss1.append(avgTrainLoss1)\n",
    "    trainLoss2.append(avgTrainLoss2)\n",
    "    \n",
    "    # Evaluating performance on test set for each epoch\n",
    "    with torch.no_grad(): # for evaluation\n",
    "        running_correct1 = 0\n",
    "        running_correct2 = 0\n",
    "        for data in testLoaderRot:\n",
    "            inputs,labels = data\n",
    "            # Wrap them in Variable\n",
    "            if use_gpu:\n",
    "                inputs = Variable(inputs.cuda())                \n",
    "                outputs1 = net1(inputs)\n",
    "                outputs2 = net2(inputs)\n",
    "                _, predicted1 = torch.max(outputs1.data, 1)\n",
    "                _, predicted2 = torch.max(outputs2.data, 1)\n",
    "                predicted1 = predicted1.cpu()\n",
    "                predicted2 = predicted2.cpu()\n",
    "            else:\n",
    "                inputs = Variable(inputs)\n",
    "                outputs1 = net1(inputs)\n",
    "                outputs2 = net2(inputs)\n",
    "                _, predicted1 = torch.max(outputs1.data, 1)\n",
    "                _, predicted2 = torch.max(outputs1.data, 1)\n",
    "            running_correct1 += (predicted1 == labels).sum()\n",
    "            running_correct2 += (predicted2 == labels).sum()\n",
    "        avgTestAcc1 = float(running_correct1)/10000.0\n",
    "        avgTestAcc2 = float(running_correct2)/10000.0\n",
    "        testAcc1.append(avgTestAcc1)\n",
    "        testAcc2.append(avgTestAcc2)\n",
    "        \n",
    "    # Plotting training loss vs Epochs\n",
    "    fig1 = plt.figure(1)        \n",
    "    plt.plot(range(epoch+1),trainLoss1,'r-',label='LeNet-5')        \n",
    "    plt.plot(range(epoch+1),trainLoss2,'g-',label='MNISTNet')        \n",
    "    if epoch==0:\n",
    "        plt.legend(loc='upper left')\n",
    "        plt.xlabel('Epochs')\n",
    "        plt.ylabel('Training loss')   \n",
    "    # Plotting testing accuracy vs Epochs\n",
    "    fig2 = plt.figure(2)        \n",
    "    plt.plot(range(epoch+1),testAcc1,'r-',label='LeNet-5')        \n",
    "    plt.plot(range(epoch+1),testAcc2,'g-',label='MNISTNet')        \n",
    "    if epoch==0:\n",
    "        plt.legend(loc='upper left')\n",
    "        plt.xlabel('Epochs')\n",
    "        plt.ylabel('Testing accuracy')    \n",
    "    epochEnd = time.time()-epochStart\n",
    "    print('Iteration: {:.0f} /{:.0f}  ; LeNet:  Training Loss: {:.6f} ; Testing Acc: {:.3f} ; Time consumed: {:.0f}m {:.0f}s '\\\n",
    "          .format(epoch + 1,iterations,avgTrainLoss1,avgTestAcc1*100,epochEnd//60,epochEnd%60))\n",
    "    print('Iteration: {:.0f} /{:.0f}  ; MNISTNet:  Training Loss: {:.6f} ; Testing Acc: {:.3f} ; Time consumed: {:.0f}m {:.0f}s '\\\n",
    "          .format(epoch + 1,iterations,avgTrainLoss2,avgTestAcc2*100,epochEnd//60,epochEnd%60))\n",
    "\n"
   ]
  },
  {
   "cell_type": "markdown",
   "metadata": {},
   "source": [
    "## Train and validate the networks on MNIST with random rotations"
   ]
  },
  {
   "cell_type": "markdown",
   "metadata": {},
   "source": [
    "### Initialize networks"
   ]
  },
  {
   "cell_type": "code",
   "execution_count": 10,
   "metadata": {},
   "outputs": [
    {
     "name": "stdout",
     "output_type": "stream",
     "text": [
      "GPU is available!\n"
     ]
    }
   ],
   "source": [
    "net1 = LeNet()\n",
    "net2 = MnistNet()\n",
    "# Check availability of GPU\n",
    "use_gpu = torch.cuda.is_available()\n",
    "if use_gpu:\n",
    "    print('GPU is available!')   \n",
    "    net1 = net1.cuda()\n",
    "    net2 = net2.cuda()\n",
    "criterion = nn.NLLLoss() # Negative Log-likelihood\n",
    "optimizer1 = optim.SGD(net1.parameters(), lr=1e-2, momentum=0.9) # SGD with momentum\n",
    "optimizer2 = optim.SGD(net2.parameters(), lr=1e-2, momentum=0.9) # SGD with momentum"
   ]
  },
  {
   "cell_type": "markdown",
   "metadata": {},
   "source": [
    "### Training and validation routine"
   ]
  },
  {
   "cell_type": "code",
   "execution_count": 11,
   "metadata": {},
   "outputs": [
    {
     "name": "stdout",
     "output_type": "stream",
     "text": [
      "Iteration: 1 /10  ; LeNet:  Training Loss: 0.008306 ; Testing Acc: 57.000 ; Time consumed: 0m 56s \n",
      "Iteration: 1 /10  ; MNISTNet:  Training Loss: 0.004349 ; Testing Acc: 87.410 ; Time consumed: 0m 56s \n",
      "Iteration: 2 /10  ; LeNet:  Training Loss: 0.002687 ; Testing Acc: 88.110 ; Time consumed: 0m 56s \n",
      "Iteration: 2 /10  ; MNISTNet:  Training Loss: 0.001211 ; Testing Acc: 92.670 ; Time consumed: 0m 56s \n",
      "Iteration: 3 /10  ; LeNet:  Training Loss: 0.001266 ; Testing Acc: 91.590 ; Time consumed: 0m 55s \n",
      "Iteration: 3 /10  ; MNISTNet:  Training Loss: 0.000863 ; Testing Acc: 93.900 ; Time consumed: 0m 55s \n",
      "Iteration: 4 /10  ; LeNet:  Training Loss: 0.000927 ; Testing Acc: 93.940 ; Time consumed: 0m 56s \n",
      "Iteration: 4 /10  ; MNISTNet:  Training Loss: 0.000688 ; Testing Acc: 95.540 ; Time consumed: 0m 56s \n",
      "Iteration: 5 /10  ; LeNet:  Training Loss: 0.000777 ; Testing Acc: 93.830 ; Time consumed: 0m 56s \n",
      "Iteration: 5 /10  ; MNISTNet:  Training Loss: 0.000614 ; Testing Acc: 95.430 ; Time consumed: 0m 56s \n",
      "Iteration: 6 /10  ; LeNet:  Training Loss: 0.000686 ; Testing Acc: 93.870 ; Time consumed: 0m 56s \n",
      "Iteration: 6 /10  ; MNISTNet:  Training Loss: 0.000553 ; Testing Acc: 96.290 ; Time consumed: 0m 56s \n",
      "Iteration: 7 /10  ; LeNet:  Training Loss: 0.000619 ; Testing Acc: 95.360 ; Time consumed: 0m 56s \n",
      "Iteration: 7 /10  ; MNISTNet:  Training Loss: 0.000519 ; Testing Acc: 97.000 ; Time consumed: 0m 56s \n",
      "Iteration: 8 /10  ; LeNet:  Training Loss: 0.000566 ; Testing Acc: 95.700 ; Time consumed: 0m 57s \n",
      "Iteration: 8 /10  ; MNISTNet:  Training Loss: 0.000488 ; Testing Acc: 96.660 ; Time consumed: 0m 57s \n",
      "Iteration: 9 /10  ; LeNet:  Training Loss: 0.000537 ; Testing Acc: 95.810 ; Time consumed: 0m 56s \n",
      "Iteration: 9 /10  ; MNISTNet:  Training Loss: 0.000440 ; Testing Acc: 96.960 ; Time consumed: 0m 56s \n",
      "Iteration: 10 /10  ; LeNet:  Training Loss: 0.000489 ; Testing Acc: 95.900 ; Time consumed: 0m 57s \n",
      "Iteration: 10 /10  ; MNISTNet:  Training Loss: 0.000411 ; Testing Acc: 96.580 ; Time consumed: 0m 57s \n"
     ]
    },
    {
     "data": {
      "image/png": "[encoded data removed]",
      "text/plain": [
       "<Figure size 432x288 with 1 Axes>"
      ]
     },
     "metadata": {},
     "output_type": "display_data"
    },
    {
     "data": {
      "image/png": "[encoded data removed]",
      "text/plain": [
       "<Figure size 432x288 with 1 Axes>"
      ]
     },
     "metadata": {},
     "output_type": "display_data"
    }
   ],
   "source": [
    "iterations = 10\n",
    "trainLoss1 = []\n",
    "testAcc1 = []\n",
    "trainLoss2 = []\n",
    "testAcc2 = []\n",
    "for epoch in range(iterations):\n",
    "    epochStart = time.time()\n",
    "    runningLoss1 = 0    \n",
    "    runningLoss2 = 0    \n",
    "    net1.train(True) # For training\n",
    "    net2.train(True) \n",
    "    for data in trainLoaderRot:\n",
    "        inputs,labels = data\n",
    "        # Wrap them in Variable\n",
    "        if use_gpu:\n",
    "            inputs, labels = Variable(inputs.cuda()), \\\n",
    "                Variable(labels.cuda())\n",
    "        else:\n",
    "            inputs, labels = Variable(inputs), Variable(labels)  \n",
    "       \n",
    "        # Initialize gradients to zero\n",
    "        optimizer1.zero_grad()\n",
    "        optimizer2.zero_grad()\n",
    "        # Feed-forward input data through the network        \n",
    "        outputs1 = net1(inputs)        \n",
    "        outputs2 = net2(inputs)        \n",
    "        # Compute loss/error\n",
    "        loss1 = criterion(outputs1, labels)\n",
    "        loss2 = criterion(outputs2, labels)\n",
    "        # Backpropagate loss and compute gradients\n",
    "        loss1.backward()\n",
    "        loss2.backward()\n",
    "        # Update the network parameters\n",
    "        optimizer1.step()\n",
    "        optimizer2.step()\n",
    "        # Accumulate loss per batch\n",
    "        runningLoss1 += loss1.data.item()\n",
    "        runningLoss2 += loss2.data.item()\n",
    "    avgTrainLoss1 = runningLoss1/60000.0\n",
    "    avgTrainLoss2 = runningLoss2/60000.0\n",
    "    trainLoss1.append(avgTrainLoss1)\n",
    "    trainLoss2.append(avgTrainLoss2)\n",
    "    \n",
    "    # Evaluating performance on test set for each epoch\n",
    "    with torch.no_grad():\n",
    "        running_correct1 = 0\n",
    "        running_correct2 = 0\n",
    "        for data in testLoaderRot:\n",
    "            inputs,labels = data\n",
    "            # Wrap them in Variable\n",
    "            if use_gpu:\n",
    "                inputs = Variable(inputs.cuda())                \n",
    "                outputs1 = net1(inputs)\n",
    "                outputs2 = net2(inputs)\n",
    "                _, predicted1 = torch.max(outputs1.data, 1)\n",
    "                _, predicted2 = torch.max(outputs2.data, 1)\n",
    "                predicted1 = predicted1.cpu()\n",
    "                predicted2 = predicted2.cpu()\n",
    "            else:\n",
    "                inputs = Variable(inputs)\n",
    "                outputs1 = net1(inputs)\n",
    "                outputs2 = net2(inputs)\n",
    "                _, predicted1 = torch.max(outputs1.data, 1)\n",
    "                _, predicted2 = torch.max(outputs1.data, 1)\n",
    "            running_correct1 += (predicted1 == labels).sum()\n",
    "            running_correct2 += (predicted2 == labels).sum()\n",
    "        avgTestAcc1 = float(running_correct1)/10000.0\n",
    "        avgTestAcc2 = float(running_correct2)/10000.0\n",
    "        testAcc1.append(avgTestAcc1)\n",
    "        testAcc2.append(avgTestAcc2)\n",
    "        \n",
    "    # Plotting training loss vs Epochs\n",
    "    fig1 = plt.figure(1)        \n",
    "    plt.plot(range(epoch+1),trainLoss1,'r-',label='LeNet-5')        \n",
    "    plt.plot(range(epoch+1),trainLoss2,'g-',label='MNISTNet')        \n",
    "    if epoch==0:\n",
    "        plt.legend(loc='upper left')\n",
    "        plt.xlabel('Epochs')\n",
    "        plt.ylabel('Training loss')   \n",
    "    # Plotting testing accuracy vs Epochs\n",
    "    fig2 = plt.figure(2)        \n",
    "    plt.plot(range(epoch+1),testAcc1,'r-',label='LeNet-5')        \n",
    "    plt.plot(range(epoch+1),testAcc2,'g-',label='MNISTNet')        \n",
    "    if epoch==0:\n",
    "        plt.legend(loc='upper left')\n",
    "        plt.xlabel('Epochs')\n",
    "        plt.ylabel('Testing accuracy')    \n",
    "    epochEnd = time.time()-epochStart\n",
    "    print('Iteration: {:.0f} /{:.0f}  ; LeNet:  Training Loss: {:.6f} ; Testing Acc: {:.3f} ; Time consumed: {:.0f}m {:.0f}s '\\\n",
    "          .format(epoch + 1,iterations,avgTrainLoss1,avgTestAcc1*100,epochEnd//60,epochEnd%60))\n",
    "    print('Iteration: {:.0f} /{:.0f}  ; MNISTNet:  Training Loss: {:.6f} ; Testing Acc: {:.3f} ; Time consumed: {:.0f}m {:.0f}s '\\\n",
    "          .format(epoch + 1,iterations,avgTrainLoss2,avgTestAcc2*100,epochEnd//60,epochEnd%60))\n",
    "\n"
   ]
  },
  {
   "cell_type": "code",
   "execution_count": null,
   "metadata": {},
   "outputs": [],
   "source": []
  }
 ],
 "metadata": {
  "kernelspec": {
   "display_name": "Python 3",
   "language": "python",
   "name": "python3"
  },
  "language_info": {
   "codemirror_mode": {
    "name": "ipython",
    "version": 3
   },
   "file_extension": ".py",
   "mimetype": "text/x-python",
   "name": "python",
   "nbconvert_exporter": "python",
   "pygments_lexer": "ipython3",
   "version": "3.6.5"
  }
 },
 "nbformat": 4,
 "nbformat_minor": 2
}
